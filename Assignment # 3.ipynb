{
 "cells": [
  {
   "cell_type": "markdown",
   "id": "497dfa5e",
   "metadata": {},
   "source": [
    "# Assignment # 3\n",
    "\n",
    "\n",
    "Question # 1"
   ]
  },
  {
   "cell_type": "markdown",
   "id": "6ec0878b",
   "metadata": {},
   "source": [
    "Write a Python program to print the following string in a specific format (see the output)."
   ]
  },
  {
   "cell_type": "code",
   "execution_count": 1,
   "id": "d43815d8",
   "metadata": {},
   "outputs": [
    {
     "name": "stdout",
     "output_type": "stream",
     "text": [
      "Twinkle, twinkle, little star, \n",
      " \t How I wonder what you are! \n",
      " \t \t Up above the world so high, \n",
      " \t \t Like a diamond in the sky. \n",
      " Twinkle, twinkle, little star, \n",
      " \t How I wonder what you are\n"
     ]
    }
   ],
   "source": [
    "print(\"Twinkle, twinkle, little star, \\n \\t How I wonder what you are! \\n \\t \\t Up above the world so high, \\n \\t \\t Like a diamond in the sky. \\n Twinkle, twinkle, little star, \\n \\t How I wonder what you are\")"
   ]
  },
  {
   "cell_type": "markdown",
   "id": "4c467276",
   "metadata": {},
   "source": [
    "# Question # 2"
   ]
  },
  {
   "cell_type": "markdown",
   "id": "f47172c3",
   "metadata": {},
   "source": [
    "Write a Python program to get the Python version you are using"
   ]
  },
  {
   "cell_type": "code",
   "execution_count": 2,
   "id": "76ee9e0e",
   "metadata": {},
   "outputs": [
    {
     "name": "stdout",
     "output_type": "stream",
     "text": [
      "Python version\n",
      "3.8.8 (default, Apr 13 2021, 15:08:07) [MSC v.1916 32 bit (Intel)]\n",
      "Version info.\n",
      "sys.version_info(major=3, minor=8, micro=8, releaselevel='final', serial=0)\n"
     ]
    }
   ],
   "source": [
    "import sys\n",
    "print(\"Python version\")\n",
    "print (sys.version)\n",
    "print(\"Version info.\")\n",
    "print (sys.version_info)"
   ]
  },
  {
   "cell_type": "markdown",
   "id": "e59316d8",
   "metadata": {},
   "source": [
    "# Question # 3"
   ]
  },
  {
   "cell_type": "markdown",
   "id": "c4ba5b30",
   "metadata": {},
   "source": [
    "Write a Python program to display the current date and time"
   ]
  },
  {
   "cell_type": "code",
   "execution_count": 3,
   "id": "6f9f1a5b",
   "metadata": {},
   "outputs": [
    {
     "name": "stdout",
     "output_type": "stream",
     "text": [
      "2021-10-23 03:59:06.403320\n"
     ]
    }
   ],
   "source": [
    "import datetime\n",
    "x = datetime.datetime.now()\n",
    "print(x)"
   ]
  },
  {
   "cell_type": "markdown",
   "id": "04e85ad7",
   "metadata": {},
   "source": [
    "# Question # 4"
   ]
  },
  {
   "cell_type": "markdown",
   "id": "f608bce8",
   "metadata": {},
   "source": [
    "Write a Python program which accepts the radius of a circle from the user and compute the area."
   ]
  },
  {
   "cell_type": "code",
   "execution_count": 4,
   "id": "39fa3b22",
   "metadata": {},
   "outputs": [
    {
     "name": "stdout",
     "output_type": "stream",
     "text": [
      "Input the radius of the circle : 3\n",
      "The area of the circle with radius 3.0 is: 28.274333882308138\n"
     ]
    }
   ],
   "source": [
    "from math import pi\n",
    "r = float(input (\"Input the radius of the circle : \"))\n",
    "print (\"The area of the circle with radius \" + str(r) + \" is: \" + str(pi * r**2))\n"
   ]
  },
  {
   "cell_type": "markdown",
   "id": "b597724b",
   "metadata": {},
   "source": [
    "# Question # 5"
   ]
  },
  {
   "cell_type": "markdown",
   "id": "a67e41a9",
   "metadata": {},
   "source": [
    "Write a Python program which accepts the user's first and last name and print them in reverse order with a space between them."
   ]
  },
  {
   "cell_type": "code",
   "execution_count": 9,
   "id": "7791a3db",
   "metadata": {},
   "outputs": [
    {
     "name": "stdout",
     "output_type": "stream",
     "text": [
      "Input your First Name: Ammad \n",
      "Input your Last Name :Ali\n"
     ]
    },
    {
     "data": {
      "text/plain": [
       "'ilA dammA'"
      ]
     },
     "execution_count": 9,
     "metadata": {},
     "output_type": "execute_result"
    }
   ],
   "source": [
    "fname = input(\"Input your First Name: \")\n",
    "lname = input(\"Input your Last Name :\")\n",
    "fullName = fname+lname\n",
    "fullName[::-1]"
   ]
  },
  {
   "cell_type": "markdown",
   "id": "157b1c16",
   "metadata": {},
   "source": [
    "# Question # 6"
   ]
  },
  {
   "cell_type": "markdown",
   "id": "c35bc4b8",
   "metadata": {},
   "source": [
    "Write a python program which takes two inputs from user and print them addition"
   ]
  },
  {
   "cell_type": "code",
   "execution_count": 6,
   "id": "ea180e91",
   "metadata": {},
   "outputs": [
    {
     "name": "stdout",
     "output_type": "stream",
     "text": [
      "enter first number: 23\n",
      "enter second number: 344\n",
      "sum: 367\n"
     ]
    }
   ],
   "source": [
    "a = int(input(\"enter first number: \"))\n",
    "b = int(input(\"enter second number: \"))\n",
    " \n",
    "sum = a + b\n",
    " \n",
    "print(\"sum:\", sum)\n"
   ]
  },
  {
   "cell_type": "markdown",
   "id": "b298646b",
   "metadata": {},
   "source": [
    "# Question # 7"
   ]
  },
  {
   "cell_type": "markdown",
   "id": "144eb978",
   "metadata": {},
   "source": [
    "Write a program which takes 5 inputs from user for different subject’s marks, total it and generate mark sheet using grades ?"
   ]
  },
  {
   "cell_type": "code",
   "execution_count": 7,
   "id": "dc141243",
   "metadata": {},
   "outputs": [
    {
     "name": "stdout",
     "output_type": "stream",
     "text": [
      "Enter marks of the DSA subject: 89\n",
      "Enter marks of the DAAA subject: 90\n",
      "Enter marks of the TOA subject: 78\n",
      "Enter marks of the Arabic subject: 89\n",
      "Enter marks of the LA subject: 67\n",
      "87.0\n",
      "Grade: A+\n"
     ]
    }
   ],
   "source": [
    "sub1=int(input(\"Enter marks of the DSA subject: \"))\n",
    "sub2=int(input(\"Enter marks of the DAAA subject: \"))\n",
    "sub3=int(input(\"Enter marks of the TOA subject: \"))\n",
    "sub4=int(input(\"Enter marks of the Arabic subject: \"))\n",
    "sub5=int(input(\"Enter marks of the LA subject: \"))\n",
    "per=(sub1+sub2+sub3+sub4+sub4)/500\n",
    "per = per*100\n",
    "print(per)\n",
    "if(per>=80):\n",
    "    print(\"Grade: A+\")\n",
    "elif(per>=70 and per<80):\n",
    "    print(\"Grade: A\")\n",
    "elif(per>=60 and per<70):\n",
    "    print(\"Grade: B\")\n",
    "elif(per>=50 and per<60):\n",
    "    print(\"Grade: C\")\n",
    "elif(per>=40 and per<50):\n",
    "    print(\"Grade: D\")\n",
    "else:\n",
    "    print(\"Grade: F\")"
   ]
  },
  {
   "cell_type": "markdown",
   "id": "a709734a",
   "metadata": {},
   "source": [
    "# Question # 8"
   ]
  },
  {
   "cell_type": "markdown",
   "id": "872dd697",
   "metadata": {},
   "source": [
    "Write a program which take input from user and identify that the given number is even or odd?"
   ]
  },
  {
   "cell_type": "code",
   "execution_count": 1,
   "id": "bc7f04c7",
   "metadata": {},
   "outputs": [
    {
     "name": "stdout",
     "output_type": "stream",
     "text": [
      "Enter the Number: 33\n",
      "The Given Number is Odd\n"
     ]
    }
   ],
   "source": [
    "number = int(input(\"Enter the Number: \"))\n",
    "if number%2==0:\n",
    "    print(\"The Given Number is Even\")\n",
    "else:\n",
    "    print(\"The Given Number is Odd\")"
   ]
  },
  {
   "cell_type": "markdown",
   "id": "c46c99bb",
   "metadata": {},
   "source": [
    "# Question # 9"
   ]
  },
  {
   "cell_type": "markdown",
   "id": "90a9a3ae",
   "metadata": {},
   "source": [
    "Write a program which print the length of the list?"
   ]
  },
  {
   "cell_type": "code",
   "execution_count": 2,
   "id": "d6da2619",
   "metadata": {},
   "outputs": [
    {
     "name": "stdout",
     "output_type": "stream",
     "text": [
      "The length of the list is :\n"
     ]
    },
    {
     "data": {
      "text/plain": [
       "8"
      ]
     },
     "execution_count": 2,
     "metadata": {},
     "output_type": "execute_result"
    }
   ],
   "source": [
    "x = [1,3,5,7,7,8,9,11]\n",
    "print(\"The length of the list is :\")\n",
    "len(x)"
   ]
  },
  {
   "cell_type": "markdown",
   "id": "f4dd650b",
   "metadata": {},
   "source": [
    "# Question # 10"
   ]
  },
  {
   "cell_type": "markdown",
   "id": "2f724a15",
   "metadata": {},
   "source": [
    " Write a Python program to sum all the numeric items in a list?"
   ]
  },
  {
   "cell_type": "code",
   "execution_count": 3,
   "id": "88b69302",
   "metadata": {},
   "outputs": [
    {
     "name": "stdout",
     "output_type": "stream",
     "text": [
      "How many numbers: 5\n",
      "Enter number 23\n",
      "Enter number 45\n",
      "Enter number 67\n",
      "Enter number 54\n",
      "Enter number 54\n",
      "Sum of elements in given list is :\n"
     ]
    },
    {
     "data": {
      "text/plain": [
       "243"
      ]
     },
     "execution_count": 3,
     "metadata": {},
     "output_type": "execute_result"
    }
   ],
   "source": [
    "lst = []\n",
    "num = int(input('How many numbers: '))\n",
    "for n in range(num):\n",
    "    numbers = int(input('Enter number '))\n",
    "    lst.append(numbers)\n",
    "print(\"Sum of elements in given list is :\")\n",
    "sum(lst)\n"
   ]
  },
  {
   "cell_type": "markdown",
   "id": "3d5b98fe",
   "metadata": {},
   "source": [
    "# Question # 11"
   ]
  },
  {
   "cell_type": "markdown",
   "id": "3fea1d4d",
   "metadata": {},
   "source": [
    "Write a Python program to get the largest number from a numeric list."
   ]
  },
  {
   "cell_type": "code",
   "execution_count": 4,
   "id": "aec9025c",
   "metadata": {},
   "outputs": [
    {
     "name": "stdout",
     "output_type": "stream",
     "text": [
      "The Largest element of the list:  345\n"
     ]
    }
   ],
   "source": [
    "list1 = [32,54,324,56,345,64,56,34,65]\n",
    "list1.sort()\n",
    "print(\"The Largest element of the list: \",list1[-1])"
   ]
  },
  {
   "cell_type": "markdown",
   "id": "311cbf94",
   "metadata": {},
   "source": [
    "# Question # 12"
   ]
  },
  {
   "cell_type": "markdown",
   "id": "3f16c3f0",
   "metadata": {},
   "source": [
    "Take a list, say for example this one:\n",
    "\n",
    "a = [1, 1, 2, 3, 5, 8, 13, 21, 34, 55, 89]\n",
    "\n",
    "Write a program that prints out all the elements of the list that are less than 5."
   ]
  },
  {
   "cell_type": "code",
   "execution_count": 5,
   "id": "a2a1dc5e",
   "metadata": {},
   "outputs": [
    {
     "name": "stdout",
     "output_type": "stream",
     "text": [
      "[1]\n",
      "[1, 1]\n",
      "[1, 1, 2]\n",
      "[1, 1, 2, 3]\n"
     ]
    }
   ],
   "source": [
    "a = [1, 1, 2, 3, 5, 8, 13, 21, 34, 55, 89]\n",
    "new_items = []\n",
    "for item in a:\n",
    "    if item < 5:\n",
    "        new_items.append(item)\n",
    "        print(new_items)"
   ]
  },
  {
   "cell_type": "code",
   "execution_count": null,
   "id": "fdda5e9a",
   "metadata": {},
   "outputs": [],
   "source": []
  }
 ],
 "metadata": {
  "kernelspec": {
   "display_name": "Python 3",
   "language": "python",
   "name": "python3"
  },
  "language_info": {
   "codemirror_mode": {
    "name": "ipython",
    "version": 3
   },
   "file_extension": ".py",
   "mimetype": "text/x-python",
   "name": "python",
   "nbconvert_exporter": "python",
   "pygments_lexer": "ipython3",
   "version": "3.8.8"
  }
 },
 "nbformat": 4,
 "nbformat_minor": 5
}
